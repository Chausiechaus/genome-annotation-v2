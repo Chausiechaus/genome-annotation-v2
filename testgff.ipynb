{
 "cells": [
  {
   "cell_type": "markdown",
   "metadata": {},
   "source": [
    "#### This is the test run for gff files using the FlyBase file"
   ]
  },
  {
   "cell_type": "code",
   "execution_count": 42,
   "metadata": {},
   "outputs": [],
   "source": [
    "import pandas as pd\n",
    "import numpy as np\n",
    "import gffutils"
   ]
  },
  {
   "cell_type": "markdown",
   "metadata": {},
   "source": [
    "##### Opening intro doc example"
   ]
  },
  {
   "cell_type": "code",
   "execution_count": 8,
   "metadata": {},
   "outputs": [
    {
     "name": "stdout",
     "output_type": "stream",
     "text": [
      "2L\tFlyBase\tgene\t7529\t9484\t.\t+\t.\tID=FBgn0031208;Name=CG11023;Ontology_term=SO:0000010,SO:0000087,GO:0016929,GO:0016926,GO:0006508;Dbxref=FlyBase:FBan0011023,FlyBase_Annotation_IDs:CG11023,GB_protein:ACZ94128,GB_protein:AAO41164,GB:AI944728,GB:AJ564667,GB_protein:CAD92822,GB:BF495604,UniProt/TrEMBL:Q86BM6,INTERPRO:IPR003653,GB_protein:AGB92323,UniProt/TrEMBL:M9PAY1,OrthoDB7_Drosophila:EOG796K1P,OrthoDB7_Diptera:EOG7X1604,EntrezGene:33155,UniProt/TrEMBL:E1JHP8,UniProt/TrEMBL:Q6KEV3,OrthoDB7_Insecta:EOG7Q8QM7,OrthoDB7_Arthropoda:EOG7R5K68,OrthoDB7_Metazoa:EOG7D59MP,InterologFinder:33155,BIOGRID:59420,FlyAtlas:CG11023-RA,GenomeRNAi:33155;gbunit=AE014134;derived_computed_cyto=21A5-21A5\n",
      "2L\tFlyBase\tmRNA\t7529\t9484\t.\t+\t.\tID=FBtr0300689;Name=CG11023-RB;Parent=FBgn0031208;Dbxref=REFSEQ:NM_001169365,FlyBase_Annotation_IDs:CG11023-RB;score_text=Strongly Supported;score=11\n",
      "2L\tFlyBase\tmRNA\t7529\t9484\t.\t+\t.\tID=FBtr0300690;Name=CG11023-RC;Parent=FBgn0031208;Dbxref=REFSEQ:NM_175941,FlyBase_Annotation_IDs:CG11023-RC;score_text=Strongly Supported;score=15\n",
      "2L\tFlyBase\tmRNA\t7529\t9484\t.\t+\t.\tID=FBtr0330654;Name=CG11023-RD;Parent=FBgn0031208;Dbxref=FlyBase_Annotation_IDs:CG11023-RD,REFSEQ:NM_001272857;score_text=Strongly Supported;score=11\n",
      "2L\tFlyBase\texon\t7529\t8116\t.\t+\t.\tName=CG11023:1;Parent=FBtr0300689,FBtr0300690,FBtr0330654;parent_type=mRNA\n",
      "2L\tFlyBase\tfive_prime_UTR\t7529\t7679\t.\t+\t.\tName=CG11023-u5;Parent=FBtr0300689,FBtr0300690;parent_type=mRNA\n",
      "2L\tFlyBase\tfive_prime_UTR\t7529\t7679\t.\t+\t.\tName=CG11023-u5;Parent=FBtr0330654;parent_type=mRNA\n",
      "2L\tFlyBase\tCDS\t7680\t8116\t.\t+\t0\tName=CG11023-cds;Parent=FBtr0300689,FBtr0300690;parent_type=mRNA\n",
      "2L\tFlyBase\tCDS\t7680\t8116\t.\t+\t0\tName=CG11023-cds;Parent=FBtr0330654;parent_type=mRNA\n",
      "2L\tFlyBase\tintron\t8117\t8228\t.\t+\t.\tName=CG11023-in;Parent=FBtr0330654;parent_type=mRNA\n",
      "2L\tFlyBase\tintron\t8117\t8192\t.\t+\t.\tName=CG11023-in;Parent=FBtr0300689;parent_type=mRNA\n",
      "2L\tFlyBase\tintron\t8117\t8192\t.\t+\t.\tName=CG11023-in;Parent=FBtr0300690;parent_type=mRNA\n",
      "2L\tFlyBase\texon\t8193\t9484\t.\t+\t.\tName=CG11023:3;Parent=FBtr0300689;parent_type=mRNA\n",
      "2L\tFlyBase\tCDS\t8193\t8610\t.\t+\t1\tName=CG11023-cds;Parent=FBtr0300689;parent_type=mRNA\n",
      "2L\tFlyBase\tCDS\t8193\t8589\t.\t+\t1\tName=CG11023-cds;Parent=FBtr0300690;parent_type=mRNA\n",
      "2L\tFlyBase\texon\t8193\t8589\t.\t+\t.\tName=CG11023:2;Parent=FBtr0300690;parent_type=mRNA\n",
      "2L\tFlyBase\texon\t8229\t9484\t.\t+\t.\tName=CG11023:4;Parent=FBtr0330654;parent_type=mRNA\n",
      "2L\tFlyBase\tCDS\t8229\t8610\t.\t+\t1\tName=CG11023-cds;Parent=FBtr0330654;parent_type=mRNA\n",
      "2L\tFlyBase\tintron\t8590\t8667\t.\t+\t.\tName=CG11023-in;Parent=FBtr0300690;parent_type=mRNA\n",
      "2L\tFlyBase\tthree_prime_UTR\t8611\t9484\t.\t+\t.\tName=CG11023-u3;Parent=FBtr0300689;parent_type=mRNA\n",
      "2L\tFlyBase\tthree_prime_UTR\t8611\t9484\t.\t+\t.\tName=CG11023-u3;Parent=FBtr0330654;parent_type=mRNA\n",
      "2L\tFlyBase\tthree_prime_UTR\t9277\t9484\t.\t+\t.\tName=CG11023-u3;Parent=FBtr0300690;parent_type=mRNA\n",
      "2L\tFlyBase\texon\t8668\t9484\t.\t+\t.\tName=CG11023:5;Parent=FBtr0300690;parent_type=mRNA\n",
      "2L\tFlyBase\tCDS\t8668\t9276\t.\t+\t0\tName=CG11023-cds;Parent=FBtr0300690;parent_type=mRNA\n",
      "\n"
     ]
    }
   ],
   "source": [
    "fn = gffutils.example_filename('intro_docs_example.gff')\n",
    "print(open(fn).read())"
   ]
  },
  {
   "cell_type": "markdown",
   "metadata": {},
   "source": [
    "##### Feature the database and turn into a dataframe"
   ]
  },
  {
   "cell_type": "code",
   "execution_count": 43,
   "metadata": {},
   "outputs": [],
   "source": [
    "db = gffutils.FeatureDB('test.db', keep_order=True)"
   ]
  },
  {
   "cell_type": "markdown",
   "metadata": {},
   "source": [
    "##### Select a certain range and add to list"
   ]
  },
  {
   "cell_type": "code",
   "execution_count": 59,
   "metadata": {},
   "outputs": [
    {
     "name": "stdout",
     "output_type": "stream",
     "text": [
      "2L\tFlyBase\tfive_prime_UTR\t7529\t7679\t.\t+\t.\tName=CG11023-u5;Parent=FBtr0300689,FBtr0300690;parent_type=mRNA\n",
      "2L\tFlyBase\tfive_prime_UTR\t7529\t7679\t.\t+\t.\tName=CG11023-u5;Parent=FBtr0330654;parent_type=mRNA\n",
      "2L\tFlyBase\texon\t7529\t8116\t.\t+\t.\tName=CG11023:1;Parent=FBtr0300689,FBtr0300690,FBtr0330654;parent_type=mRNA\n",
      "2L\tFlyBase\tgene\t7529\t9484\t.\t+\t.\tID=FBgn0031208;Name=CG11023;Ontology_term=SO:0000010,SO:0000087,GO:0016929,GO:0016926,GO:0006508;Dbxref=FlyBase:FBan0011023,FlyBase_Annotation_IDs:CG11023,GB_protein:ACZ94128,GB_protein:AAO41164,GB:AI944728,GB:AJ564667,GB_protein:CAD92822,GB:BF495604,UniProt/TrEMBL:Q86BM6,INTERPRO:IPR003653,GB_protein:AGB92323,UniProt/TrEMBL:M9PAY1,OrthoDB7_Drosophila:EOG796K1P,OrthoDB7_Diptera:EOG7X1604,EntrezGene:33155,UniProt/TrEMBL:E1JHP8,UniProt/TrEMBL:Q6KEV3,OrthoDB7_Insecta:EOG7Q8QM7,OrthoDB7_Arthropoda:EOG7R5K68,OrthoDB7_Metazoa:EOG7D59MP,InterologFinder:33155,BIOGRID:59420,FlyAtlas:CG11023-RA,GenomeRNAi:33155;gbunit=AE014134;derived_computed_cyto=21A5-21A5\n",
      "2L\tFlyBase\tmRNA\t7529\t9484\t.\t+\t.\tID=FBtr0300689;Name=CG11023-RB;Dbxref=REFSEQ:NM_001169365,FlyBase_Annotation_IDs:CG11023-RB;Parent=FBgn0031208;score_text=Strongly Supported;score=11\n",
      "2L\tFlyBase\tmRNA\t7529\t9484\t.\t+\t.\tID=FBtr0300690;Name=CG11023-RC;Dbxref=REFSEQ:NM_175941,FlyBase_Annotation_IDs:CG11023-RC;Parent=FBgn0031208;score_text=Strongly Supported;score=15\n",
      "2L\tFlyBase\tmRNA\t7529\t9484\t.\t+\t.\tID=FBtr0330654;Name=CG11023-RD;Dbxref=FlyBase_Annotation_IDs:CG11023-RD,REFSEQ:NM_001272857;Parent=FBgn0031208;score_text=Strongly Supported;score=11\n",
      "2L\tFlyBase\tCDS\t7680\t8116\t.\t+\t0\tName=CG11023-cds;Parent=FBtr0300689,FBtr0300690;parent_type=mRNA\n",
      "2L\tFlyBase\tCDS\t7680\t8116\t.\t+\t0\tName=CG11023-cds;Parent=FBtr0330654;parent_type=mRNA\n",
      "2L\tFlyBase\tintron\t8117\t8192\t.\t+\t.\tName=CG11023-in;Parent=FBtr0300689;parent_type=mRNA\n",
      "2L\tFlyBase\tintron\t8117\t8192\t.\t+\t.\tName=CG11023-in;Parent=FBtr0300690;parent_type=mRNA\n",
      "2L\tFlyBase\tintron\t8117\t8228\t.\t+\t.\tName=CG11023-in;Parent=FBtr0330654;parent_type=mRNA\n",
      "2L\tFlyBase\tCDS\t8193\t8589\t.\t+\t1\tName=CG11023-cds;Parent=FBtr0300690;parent_type=mRNA\n",
      "2L\tFlyBase\texon\t8193\t8589\t.\t+\t.\tName=CG11023:2;Parent=FBtr0300690;parent_type=mRNA\n",
      "2L\tFlyBase\tCDS\t8193\t8610\t.\t+\t1\tName=CG11023-cds;Parent=FBtr0300689;parent_type=mRNA\n",
      "2L\tFlyBase\texon\t8193\t9484\t.\t+\t.\tName=CG11023:3;Parent=FBtr0300689;parent_type=mRNA\n",
      "2L\tFlyBase\tCDS\t8229\t8610\t.\t+\t1\tName=CG11023-cds;Parent=FBtr0330654;parent_type=mRNA\n",
      "2L\tFlyBase\texon\t8229\t9484\t.\t+\t.\tName=CG11023:4;Parent=FBtr0330654;parent_type=mRNA\n",
      "2L\tFlyBase\tintron\t8590\t8667\t.\t+\t.\tName=CG11023-in;Parent=FBtr0300690;parent_type=mRNA\n",
      "2L\tFlyBase\tthree_prime_UTR\t8611\t9484\t.\t+\t.\tName=CG11023-u3;Parent=FBtr0300689;parent_type=mRNA\n",
      "2L\tFlyBase\tthree_prime_UTR\t8611\t9484\t.\t+\t.\tName=CG11023-u3;Parent=FBtr0330654;parent_type=mRNA\n",
      "2L\tFlyBase\tCDS\t8668\t9276\t.\t+\t0\tName=CG11023-cds;Parent=FBtr0300690;parent_type=mRNA\n",
      "2L\tFlyBase\texon\t8668\t9484\t.\t+\t.\tName=CG11023:5;Parent=FBtr0300690;parent_type=mRNA\n",
      "2L\tFlyBase\tthree_prime_UTR\t9277\t9484\t.\t+\t.\tName=CG11023-u3;Parent=FBtr0300690;parent_type=mRNA\n",
      "[<Feature five_prime_UTR (2L:7529-7679[+]) at 0x7fe2c4d28590>, <Feature five_prime_UTR (2L:7529-7679[+]) at 0x7fe2c5279f50>, <Feature exon (2L:7529-8116[+]) at 0x7fe2c5c3b790>, <Feature gene (2L:7529-9484[+]) at 0x7fe2c4b5f150>, <Feature mRNA (2L:7529-9484[+]) at 0x7fe2c4d38a90>, <Feature mRNA (2L:7529-9484[+]) at 0x7fe2c4d3a750>, <Feature mRNA (2L:7529-9484[+]) at 0x7fe2c4d417d0>, <Feature CDS (2L:7680-8116[+]) at 0x7fe2c523a190>, <Feature CDS (2L:7680-8116[+]) at 0x7fe2c5239410>, <Feature intron (2L:8117-8192[+]) at 0x7fe2c4c47d50>, <Feature intron (2L:8117-8192[+]) at 0x7fe2bf67fc10>, <Feature intron (2L:8117-8228[+]) at 0x7fe2bf67f850>, <Feature CDS (2L:8193-8589[+]) at 0x7fe2bf67f2d0>, <Feature exon (2L:8193-8589[+]) at 0x7fe2bf67e890>, <Feature CDS (2L:8193-8610[+]) at 0x7fe2bf69c1d0>, <Feature exon (2L:8193-9484[+]) at 0x7fe2bf69c490>, <Feature CDS (2L:8229-8610[+]) at 0x7fe2bf671290>, <Feature exon (2L:8229-9484[+]) at 0x7fe2bf673550>, <Feature intron (2L:8590-8667[+]) at 0x7fe2bf69b050>, <Feature three_prime_UTR (2L:8611-9484[+]) at 0x7fe2bf698050>, <Feature three_prime_UTR (2L:8611-9484[+]) at 0x7fe2bf6980d0>, <Feature CDS (2L:8668-9276[+]) at 0x7fe2bf699910>, <Feature exon (2L:8668-9484[+]) at 0x7fe2bf699d50>, <Feature three_prime_UTR (2L:9277-9484[+]) at 0x7fe2bf69a550>]\n"
     ]
    }
   ],
   "source": [
    "slct = db.region(region=('2L', 7500, 9500), completely_within=True)\n",
    "slct_lst =[]\n",
    "\n",
    "for item in slct:\n",
    "    print(item)\n",
    "    slct_lst.append(item)\n",
    "\n",
    "print(slct_lst)\n"
   ]
  },
  {
   "cell_type": "markdown",
   "metadata": {},
   "source": [
    "##### Attempt to select and collect a range in a different way:"
   ]
  },
  {
   "cell_type": "code",
   "execution_count": 63,
   "metadata": {},
   "outputs": [],
   "source": [
    "new_slct = db.region(region=('2L', 7500, 9500), completely_within=True)\n",
    "records = []\n",
    "for test in new_slct:\n",
    "    records.append({\n",
    "        \"seqid\": test.seqid,\n",
    "        \"source\": test.source,\n",
    "        \"featuretype\": test.featuretype,\n",
    "        \"start\": test.start,\n",
    "        \"end\": test.end,\n",
    "        \"strand\": test.strand,\n",
    "        \"score\": test.score,\n",
    "        \"attributes\": test.attributes  # Attributes as a dictionary\n",
    "    })"
   ]
  },
  {
   "cell_type": "markdown",
   "metadata": {},
   "source": [
    "##### Format the list as a database"
   ]
  },
  {
   "cell_type": "code",
   "execution_count": 64,
   "metadata": {},
   "outputs": [
    {
     "name": "stdout",
     "output_type": "stream",
     "text": [
      "  seqid   source     featuretype  start   end strand score          Name  \\\n",
      "0    2L  FlyBase  five_prime_UTR   7529  7679      +     .  [CG11023-u5]   \n",
      "1    2L  FlyBase  five_prime_UTR   7529  7679      +     .  [CG11023-u5]   \n",
      "2    2L  FlyBase            exon   7529  8116      +     .   [CG11023:1]   \n",
      "3    2L  FlyBase            gene   7529  9484      +     .     [CG11023]   \n",
      "4    2L  FlyBase            mRNA   7529  9484      +     .  [CG11023-RB]   \n",
      "\n",
      "                                    Parent parent_type             ID  \\\n",
      "0               [FBtr0300689, FBtr0300690]      [mRNA]            NaN   \n",
      "1                            [FBtr0330654]      [mRNA]            NaN   \n",
      "2  [FBtr0300689, FBtr0300690, FBtr0330654]      [mRNA]            NaN   \n",
      "3                                      NaN         NaN  [FBgn0031208]   \n",
      "4                            [FBgn0031208]         NaN  [FBtr0300689]   \n",
      "\n",
      "                                       Ontology_term  \\\n",
      "0                                                NaN   \n",
      "1                                                NaN   \n",
      "2                                                NaN   \n",
      "3  [SO:0000010, SO:0000087, GO:0016929, GO:001692...   \n",
      "4                                                NaN   \n",
      "\n",
      "                                              Dbxref      gbunit  \\\n",
      "0                                                NaN         NaN   \n",
      "1                                                NaN         NaN   \n",
      "2                                                NaN         NaN   \n",
      "3  [FlyBase:FBan0011023, FlyBase_Annotation_IDs:C...  [AE014134]   \n",
      "4  [REFSEQ:NM_001169365, FlyBase_Annotation_IDs:C...         NaN   \n",
      "\n",
      "  derived_computed_cyto            score_text score  \n",
      "0                   NaN                   NaN   NaN  \n",
      "1                   NaN                   NaN   NaN  \n",
      "2                   NaN                   NaN   NaN  \n",
      "3           [21A5-21A5]                   NaN   NaN  \n",
      "4                   NaN  [Strongly Supported]  [11]  \n"
     ]
    }
   ],
   "source": [
    "df = pd.DataFrame(records)\n",
    "attributes_df = df[\"attributes\"].apply(pd.Series)\n",
    "df = pd.concat([df.drop(columns=[\"attributes\"]), attributes_df], axis=1)\n",
    "\n",
    "print(df.head())\n",
    "#how to see attributes rather than which attributes are present"
   ]
  },
  {
   "cell_type": "markdown",
   "metadata": {},
   "source": []
  },
  {
   "cell_type": "markdown",
   "metadata": {},
   "source": [
    "##### Test (NEED TO ADD IT AS A DICTIONARY NOT LIST)"
   ]
  },
  {
   "cell_type": "code",
   "execution_count": null,
   "metadata": {},
   "outputs": [
    {
     "name": "stdout",
     "output_type": "stream",
     "text": [
      "   seqid   source      featuretype  start   end strand score  \\\n",
      "0     2L  FlyBase             gene   7529  9484      +     .   \n",
      "1     2L  FlyBase             mRNA   7529  9484      +     .   \n",
      "2     2L  FlyBase             mRNA   7529  9484      +     .   \n",
      "3     2L  FlyBase             mRNA   7529  9484      +     .   \n",
      "4     2L  FlyBase             exon   7529  8116      +     .   \n",
      "5     2L  FlyBase   five_prime_UTR   7529  7679      +     .   \n",
      "6     2L  FlyBase   five_prime_UTR   7529  7679      +     .   \n",
      "7     2L  FlyBase              CDS   7680  8116      +     .   \n",
      "8     2L  FlyBase              CDS   7680  8116      +     .   \n",
      "9     2L  FlyBase           intron   8117  8228      +     .   \n",
      "10    2L  FlyBase           intron   8117  8192      +     .   \n",
      "11    2L  FlyBase           intron   8117  8192      +     .   \n",
      "12    2L  FlyBase             exon   8193  9484      +     .   \n",
      "13    2L  FlyBase              CDS   8193  8610      +     .   \n",
      "14    2L  FlyBase              CDS   8193  8589      +     .   \n",
      "15    2L  FlyBase             exon   8193  8589      +     .   \n",
      "16    2L  FlyBase             exon   8229  9484      +     .   \n",
      "17    2L  FlyBase              CDS   8229  8610      +     .   \n",
      "18    2L  FlyBase           intron   8590  8667      +     .   \n",
      "19    2L  FlyBase  three_prime_UTR   8611  9484      +     .   \n",
      "20    2L  FlyBase  three_prime_UTR   8611  9484      +     .   \n",
      "21    2L  FlyBase  three_prime_UTR   9277  9484      +     .   \n",
      "22    2L  FlyBase             exon   8668  9484      +     .   \n",
      "23    2L  FlyBase              CDS   8668  9276      +     .   \n",
      "\n",
      "                                           attributes  \n",
      "0   [ID, Name, Ontology_term, Dbxref, gbunit, deri...  \n",
      "1       [ID, Name, Parent, Dbxref, score_text, score]  \n",
      "2       [ID, Name, Parent, Dbxref, score_text, score]  \n",
      "3       [ID, Name, Parent, Dbxref, score_text, score]  \n",
      "4                         [Name, Parent, parent_type]  \n",
      "5                         [Name, Parent, parent_type]  \n",
      "6                         [Name, Parent, parent_type]  \n",
      "7                         [Name, Parent, parent_type]  \n",
      "8                         [Name, Parent, parent_type]  \n",
      "9                         [Name, Parent, parent_type]  \n",
      "10                        [Name, Parent, parent_type]  \n",
      "11                        [Name, Parent, parent_type]  \n",
      "12                        [Name, Parent, parent_type]  \n",
      "13                        [Name, Parent, parent_type]  \n",
      "14                        [Name, Parent, parent_type]  \n",
      "15                        [Name, Parent, parent_type]  \n",
      "16                        [Name, Parent, parent_type]  \n",
      "17                        [Name, Parent, parent_type]  \n",
      "18                        [Name, Parent, parent_type]  \n",
      "19                        [Name, Parent, parent_type]  \n",
      "20                        [Name, Parent, parent_type]  \n",
      "21                        [Name, Parent, parent_type]  \n",
      "22                        [Name, Parent, parent_type]  \n",
      "23                        [Name, Parent, parent_type]  \n"
     ]
    }
   ],
   "source": [
    "import gffutils\n",
    "import pandas as pd\n",
    "\n",
    "# Load an existing GFF database\n",
    "db = gffutils.FeatureDB(\"test.db\")\n",
    "\n",
    "# Extract all features into a list of dictionaries\n",
    "\n",
    "\n",
    "# Convert to Pandas DataFrame\n",
    "df = pd.DataFrame(records)\n",
    "\n",
    "# Show the first few rows\n",
    "print(df)\n"
   ]
  },
  {
   "cell_type": "markdown",
   "metadata": {},
   "source": []
  },
  {
   "cell_type": "markdown",
   "metadata": {},
   "source": [
    "##### more testing lol"
   ]
  },
  {
   "cell_type": "code",
   "execution_count": 54,
   "metadata": {},
   "outputs": [
    {
     "ename": "SyntaxError",
     "evalue": "invalid syntax (1880320917.py, line 10)",
     "output_type": "error",
     "traceback": [
      "\u001b[0;36m  Cell \u001b[0;32mIn[54], line 10\u001b[0;36m\u001b[0m\n\u001b[0;31m    for att in test.attributes:\u001b[0m\n\u001b[0m    ^\u001b[0m\n\u001b[0;31mSyntaxError\u001b[0m\u001b[0;31m:\u001b[0m invalid syntax\n"
     ]
    }
   ],
   "source": [
    "new_slct = db.region(region=('2L', 8000, 9000), completely_within=True)\n",
    "records = []\n",
    "for test in new_slct:\n",
    "    records.append({\n",
    "        \"seqid\": test.seqid,\n",
    "        \"start\": test.start,\n",
    "        \"end\": test.end,\n",
    "        \"strand\": test.strand,\n",
    "        \"score\": test.score,\n",
    "        for att in test.attributes:\n",
    "        ({\n",
    "            att: test[att]\n",
    "        })\n",
    " # Attributes as a dictionary\n",
    "    })\n",
    "    \n",
    "\n",
    "df = pd.DataFrame(records)\n",
    "print(df)"
   ]
  },
  {
   "cell_type": "markdown",
   "metadata": {},
   "source": []
  },
  {
   "cell_type": "code",
   "execution_count": 66,
   "metadata": {},
   "outputs": [
    {
     "name": "stderr",
     "output_type": "stream",
     "text": [
      "[W::hts_idx_load3] The index file is older than the data file: hg38.all_motifs.v1.0.bed.gz.tbi\n"
     ]
    },
    {
     "data": {
      "text/html": [
       "<div>\n",
       "<style scoped>\n",
       "    .dataframe tbody tr th:only-of-type {\n",
       "        vertical-align: middle;\n",
       "    }\n",
       "\n",
       "    .dataframe tbody tr th {\n",
       "        vertical-align: top;\n",
       "    }\n",
       "\n",
       "    .dataframe thead th {\n",
       "        text-align: right;\n",
       "    }\n",
       "</style>\n",
       "<table border=\"1\" class=\"dataframe\">\n",
       "  <thead>\n",
       "    <tr style=\"text-align: right;\">\n",
       "      <th></th>\n",
       "      <th>seqid</th>\n",
       "      <th>source</th>\n",
       "      <th>start</th>\n",
       "      <th>end</th>\n",
       "      <th>featuretype</th>\n",
       "      <th>strand</th>\n",
       "      <th>ID</th>\n",
       "      <th>matchscore</th>\n",
       "      <th>seq</th>\n",
       "    </tr>\n",
       "  </thead>\n",
       "  <tbody>\n",
       "    <tr>\n",
       "      <th>0</th>\n",
       "      <td>chr1</td>\n",
       "      <td>K562</td>\n",
       "      <td>207320851</td>\n",
       "      <td>207320873</td>\n",
       "      <td>promoter</td>\n",
       "      <td>-</td>\n",
       "      <td>[ZN467_HUMAN.H11MO.0.C]</td>\n",
       "      <td>[6.55398114995]</td>\n",
       "      <td>[TTATCCCACCCCACACCGCCCC]</td>\n",
       "    </tr>\n",
       "    <tr>\n",
       "      <th>1</th>\n",
       "      <td>chr1</td>\n",
       "      <td>K562</td>\n",
       "      <td>207320852</td>\n",
       "      <td>207320871</td>\n",
       "      <td>promoter</td>\n",
       "      <td>-</td>\n",
       "      <td>[ZBT17_MOUSE.H11MO.0.A]</td>\n",
       "      <td>[6.54530437941]</td>\n",
       "      <td>[TATCCCACCCCACACCGCC]</td>\n",
       "    </tr>\n",
       "    <tr>\n",
       "      <th>2</th>\n",
       "      <td>chr1</td>\n",
       "      <td>K562</td>\n",
       "      <td>207320852</td>\n",
       "      <td>207320874</td>\n",
       "      <td>promoter</td>\n",
       "      <td>-</td>\n",
       "      <td>[MAZ_HUMAN.H11MO.0.A]</td>\n",
       "      <td>[7.51432687902]</td>\n",
       "      <td>[TATCCCACCCCACACCGCCCCG]</td>\n",
       "    </tr>\n",
       "    <tr>\n",
       "      <th>3</th>\n",
       "      <td>chr1</td>\n",
       "      <td>K562</td>\n",
       "      <td>207320852</td>\n",
       "      <td>207320874</td>\n",
       "      <td>promoter</td>\n",
       "      <td>-</td>\n",
       "      <td>[MAZ_MOUSE.H11MO.0.A]</td>\n",
       "      <td>[7.51432687902]</td>\n",
       "      <td>[TATCCCACCCCACACCGCCCCG]</td>\n",
       "    </tr>\n",
       "    <tr>\n",
       "      <th>4</th>\n",
       "      <td>chr1</td>\n",
       "      <td>K562</td>\n",
       "      <td>207320853</td>\n",
       "      <td>207320868</td>\n",
       "      <td>promoter</td>\n",
       "      <td>-</td>\n",
       "      <td>[KLF5_MOUSE.H11MO.0.A]</td>\n",
       "      <td>[7.34779737738]</td>\n",
       "      <td>[ATCCCACCCCACACC]</td>\n",
       "    </tr>\n",
       "    <tr>\n",
       "      <th>...</th>\n",
       "      <td>...</td>\n",
       "      <td>...</td>\n",
       "      <td>...</td>\n",
       "      <td>...</td>\n",
       "      <td>...</td>\n",
       "      <td>...</td>\n",
       "      <td>...</td>\n",
       "      <td>...</td>\n",
       "      <td>...</td>\n",
       "    </tr>\n",
       "    <tr>\n",
       "      <th>233</th>\n",
       "      <td>chr1</td>\n",
       "      <td>K562</td>\n",
       "      <td>207320895</td>\n",
       "      <td>207320910</td>\n",
       "      <td>promoter</td>\n",
       "      <td>+</td>\n",
       "      <td>[ZSCAN4_C2H2_1]</td>\n",
       "      <td>[3.89770458326]</td>\n",
       "      <td>[CACACACACACACAC]</td>\n",
       "    </tr>\n",
       "    <tr>\n",
       "      <th>234</th>\n",
       "      <td>chr1</td>\n",
       "      <td>K562</td>\n",
       "      <td>207320895</td>\n",
       "      <td>207320910</td>\n",
       "      <td>promoter</td>\n",
       "      <td>+</td>\n",
       "      <td>[ZSCAN4_MA1155.1]</td>\n",
       "      <td>[3.89770458326]</td>\n",
       "      <td>[CACACACACACACAC]</td>\n",
       "    </tr>\n",
       "    <tr>\n",
       "      <th>235</th>\n",
       "      <td>chr1</td>\n",
       "      <td>K562</td>\n",
       "      <td>207320895</td>\n",
       "      <td>207320915</td>\n",
       "      <td>promoter</td>\n",
       "      <td>+</td>\n",
       "      <td>[RREB1_MA0073.1]</td>\n",
       "      <td>[7.01544732018]</td>\n",
       "      <td>[CACACACACACACACACACA]</td>\n",
       "    </tr>\n",
       "    <tr>\n",
       "      <th>236</th>\n",
       "      <td>chr1</td>\n",
       "      <td>K562</td>\n",
       "      <td>207320896</td>\n",
       "      <td>207320909</td>\n",
       "      <td>promoter</td>\n",
       "      <td>+</td>\n",
       "      <td>[KLF9_MA1107.1]</td>\n",
       "      <td>[8.4085097204]</td>\n",
       "      <td>[ACACACACACACA]</td>\n",
       "    </tr>\n",
       "    <tr>\n",
       "      <th>237</th>\n",
       "      <td>chr1</td>\n",
       "      <td>K562</td>\n",
       "      <td>207320896</td>\n",
       "      <td>207320914</td>\n",
       "      <td>promoter</td>\n",
       "      <td>-</td>\n",
       "      <td>[EGR2_HUMAN.H11MO.0.A]</td>\n",
       "      <td>[7.84958089041]</td>\n",
       "      <td>[ACACACACACACACACAC]</td>\n",
       "    </tr>\n",
       "  </tbody>\n",
       "</table>\n",
       "<p>238 rows × 9 columns</p>\n",
       "</div>"
      ],
      "text/plain": [
       "    seqid source      start        end featuretype strand  \\\n",
       "0    chr1   K562  207320851  207320873    promoter      -   \n",
       "1    chr1   K562  207320852  207320871    promoter      -   \n",
       "2    chr1   K562  207320852  207320874    promoter      -   \n",
       "3    chr1   K562  207320852  207320874    promoter      -   \n",
       "4    chr1   K562  207320853  207320868    promoter      -   \n",
       "..    ...    ...        ...        ...         ...    ...   \n",
       "233  chr1   K562  207320895  207320910    promoter      +   \n",
       "234  chr1   K562  207320895  207320910    promoter      +   \n",
       "235  chr1   K562  207320895  207320915    promoter      +   \n",
       "236  chr1   K562  207320896  207320909    promoter      +   \n",
       "237  chr1   K562  207320896  207320914    promoter      -   \n",
       "\n",
       "                          ID       matchscore                       seq  \n",
       "0    [ZN467_HUMAN.H11MO.0.C]  [6.55398114995]  [TTATCCCACCCCACACCGCCCC]  \n",
       "1    [ZBT17_MOUSE.H11MO.0.A]  [6.54530437941]     [TATCCCACCCCACACCGCC]  \n",
       "2      [MAZ_HUMAN.H11MO.0.A]  [7.51432687902]  [TATCCCACCCCACACCGCCCCG]  \n",
       "3      [MAZ_MOUSE.H11MO.0.A]  [7.51432687902]  [TATCCCACCCCACACCGCCCCG]  \n",
       "4     [KLF5_MOUSE.H11MO.0.A]  [7.34779737738]         [ATCCCACCCCACACC]  \n",
       "..                       ...              ...                       ...  \n",
       "233          [ZSCAN4_C2H2_1]  [3.89770458326]         [CACACACACACACAC]  \n",
       "234        [ZSCAN4_MA1155.1]  [3.89770458326]         [CACACACACACACAC]  \n",
       "235         [RREB1_MA0073.1]  [7.01544732018]    [CACACACACACACACACACA]  \n",
       "236          [KLF9_MA1107.1]   [8.4085097204]           [ACACACACACACA]  \n",
       "237   [EGR2_HUMAN.H11MO.0.A]  [7.84958089041]      [ACACACACACACACACAC]  \n",
       "\n",
       "[238 rows x 9 columns]"
      ]
     },
     "metadata": {},
     "output_type": "display_data"
    }
   ],
   "source": [
    "import pysam\n",
    "import pandas as pd\n",
    "import numpy as np\n",
    "\n",
    "#first download the bed.gz and bed.gz.tbi files and put in the same directory\n",
    "input_file = 'hg38.all_motifs.v1.0.bed.gz'\n",
    "tabix = pysam.TabixFile(input_file)\n",
    "\n",
    "#Create dictionary using the input selection\n",
    "records = []\n",
    "for row in tabix.fetch('chr1',207320867,207320897):\n",
    "    assets = row.split()\n",
    "    records.append({\n",
    "        \"seqid\": assets.pop(0),\n",
    "        \"source\": 'K562',\n",
    "        \"start\": assets.pop(0),\n",
    "        \"end\": assets.pop(0),\n",
    "        \"featuretype\": 'promoter',\n",
    "        \"strand\": assets.pop(2),\n",
    "        \"attributes\": ({\"ID\": [assets.pop(0)], \"matchscore\": [assets.pop(0)], \"seq\":[assets.pop(0)]})  # Attributes as a dictionary (will be expanded later)\n",
    "    })\n",
    "\n",
    "\n",
    "df = pd.DataFrame(records)\n",
    "attributes_df = df[\"attributes\"].apply(pd.Series)\n",
    "df = pd.concat([df.drop(columns=[\"attributes\"]), attributes_df], axis=1)\n",
    "\n",
    "display(df)"
   ]
  }
 ],
 "metadata": {
  "kernelspec": {
   "display_name": "Python 3 (ipykernel)",
   "language": "python",
   "name": "python3"
  },
  "language_info": {
   "codemirror_mode": {
    "name": "ipython",
    "version": 3
   },
   "file_extension": ".py",
   "mimetype": "text/x-python",
   "name": "python",
   "nbconvert_exporter": "python",
   "pygments_lexer": "ipython3",
   "version": "3.11.5"
  }
 },
 "nbformat": 4,
 "nbformat_minor": 2
}
