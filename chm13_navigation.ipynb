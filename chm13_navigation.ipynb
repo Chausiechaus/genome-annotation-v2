{
 "cells": [
  {
   "cell_type": "markdown",
   "metadata": {},
   "source": [
    "### Database creation of Telomere-to-telomere consortium CHM13 Annotations"
   ]
  },
  {
   "cell_type": "markdown",
   "metadata": {},
   "source": [
    "##### Before you begin, please make sure you have the proper files downloaded"
   ]
  },
  {
   "cell_type": "code",
   "execution_count": 73,
   "metadata": {},
   "outputs": [],
   "source": [
    "#Download link for CHM13 Annotations: https://github.com/marbl/CHM13?tab=readme-ov-file\n",
    "##Scroll Down to find the UCSC GENCODEv35 CAT/Liftoff v2 Annotation file, which will be used for this database"
   ]
  },
  {
   "cell_type": "code",
   "execution_count": 74,
   "metadata": {},
   "outputs": [],
   "source": [
    "import pandas as pd\n",
    "import numpy as np\n",
    "import gffutils\n",
    "import pysam"
   ]
  },
  {
   "cell_type": "markdown",
   "metadata": {},
   "source": [
    "##### If this is your first time importing the gff3 database, run this command"
   ]
  },
  {
   "cell_type": "code",
   "execution_count": 75,
   "metadata": {},
   "outputs": [],
   "source": [
    "#This can take a long time, so only run this once (remove the #)\n",
    "\n",
    "#db = gffutils.create_db('chm13.draft_v2.0.gene_annotation.gff3', dbfn='chm13db.db', force=True, keep_order=True, \n",
    "#merge_strategy='create_unique', sort_attribute_values=True) \n",
    "\n",
    "#replace gff3 with your gff3 file, dbfn can be whichever name you want to store the transposed file as\n"
   ]
  },
  {
   "cell_type": "markdown",
   "metadata": {},
   "source": [
    "##### Feature the selected database "
   ]
  },
  {
   "cell_type": "code",
   "execution_count": 76,
   "metadata": {},
   "outputs": [],
   "source": [
    "db = gffutils.FeatureDB('chm13db.db', keep_order=True)\n"
   ]
  },
  {
   "cell_type": "markdown",
   "metadata": {},
   "source": [
    "##### Select the desired range"
   ]
  },
  {
   "cell_type": "code",
   "execution_count": 77,
   "metadata": {},
   "outputs": [],
   "source": [
    "start = 206586163\n",
    "stop = 206586193\n",
    "chr = 'chr1'"
   ]
  },
  {
   "cell_type": "code",
   "execution_count": 78,
   "metadata": {},
   "outputs": [],
   "source": [
    "slct = db.region(region=(chr, start, stop), completely_within=False)"
   ]
  },
  {
   "cell_type": "markdown",
   "metadata": {},
   "source": [
    "##### Iterate through the region and transpose it to a dictionary"
   ]
  },
  {
   "cell_type": "code",
   "execution_count": 79,
   "metadata": {},
   "outputs": [],
   "source": [
    "records = []\n",
    "for gene in slct:\n",
    "    records.append({\n",
    "        \"seqid\": gene.seqid,\n",
    "        \"source\": gene.source,\n",
    "        \"featuretype\": gene.featuretype,\n",
    "        \"start\": gene.start,\n",
    "        \"end\": gene.end,\n",
    "        \"strand\": gene.strand,\n",
    "        \"score\": gene.score,\n",
    "        \"attributes\": gene.attributes  # Attributes as a dictionary (will be expanded later)\n",
    "    })"
   ]
  },
  {
   "cell_type": "markdown",
   "metadata": {},
   "source": [
    "##### Next, lets integrate the hg38 regulatory elements into this database:"
   ]
  },
  {
   "cell_type": "code",
   "execution_count": 80,
   "metadata": {},
   "outputs": [],
   "source": [
    "input_file = 'hg38.archetype_motifs.v1.0.bed.gz' #Replace with the RE file\n",
    "tabix = pysam.TabixFile(input_file)\n",
    "source_name = 'atlas' #replace with reference type\n",
    "hg38_start = 207320867 #determined from Liftover coordinate mapping\n",
    "hg38_stop = 207320897\n",
    "hg38_to_chm13 = start - hg38_start #transformation from hg38 to chm13\n",
    "#It may say that the index file is older than the data file, you can ignore this for now"
   ]
  },
  {
   "cell_type": "code",
   "execution_count": 81,
   "metadata": {},
   "outputs": [],
   "source": [
    "#Create dictionary using the input selection\n",
    "for row in tabix.fetch(chr,hg38_start,hg38_stop):\n",
    "    assets = row.split()\n",
    "    records.append({\n",
    "        \"seqid\": assets.pop(0),\n",
    "        \"source\": source_name,\n",
    "        \"start\": int(assets.pop(0)) + hg38_to_chm13,\n",
    "        \"end\": int(assets.pop(0)) + hg38_to_chm13,\n",
    "        \"featuretype\": 'RE',\n",
    "        \"strand\": assets.pop(2),\n",
    "        \"attributes\": ({\"ID\": assets.pop(2), \"matchscore\": float(assets.pop(1)), \"cluster\":assets.pop(0)})  # Attributes as a dictionary (will be expanded later)\n",
    "    })"
   ]
  },
  {
   "cell_type": "markdown",
   "metadata": {},
   "source": [
    "##### Expand out the attributes and format the dictionary as a database, dropping unnecessary columns"
   ]
  },
  {
   "cell_type": "code",
   "execution_count": 82,
   "metadata": {},
   "outputs": [],
   "source": [
    "df = pd.DataFrame(records)\n",
    "attributes_df = df[\"attributes\"].apply(pd.Series)\n",
    "df = pd.concat([df.drop(columns=[\"attributes\"]), attributes_df], axis=1)\n"
   ]
  },
  {
   "cell_type": "code",
   "execution_count": 83,
   "metadata": {},
   "outputs": [
    {
     "data": {
      "text/html": [
       "<div>\n",
       "<style scoped>\n",
       "    .dataframe tbody tr th:only-of-type {\n",
       "        vertical-align: middle;\n",
       "    }\n",
       "\n",
       "    .dataframe tbody tr th {\n",
       "        vertical-align: top;\n",
       "    }\n",
       "\n",
       "    .dataframe thead th {\n",
       "        text-align: right;\n",
       "    }\n",
       "</style>\n",
       "<table border=\"1\" class=\"dataframe\">\n",
       "  <thead>\n",
       "    <tr style=\"text-align: right;\">\n",
       "      <th></th>\n",
       "      <th>seqid</th>\n",
       "      <th>source</th>\n",
       "      <th>start</th>\n",
       "      <th>end</th>\n",
       "      <th>featuretype</th>\n",
       "      <th>strand</th>\n",
       "      <th>ID</th>\n",
       "      <th>matchscore</th>\n",
       "      <th>cluster</th>\n",
       "    </tr>\n",
       "  </thead>\n",
       "  <tbody>\n",
       "    <tr>\n",
       "      <th>0</th>\n",
       "      <td>chr1</td>\n",
       "      <td>atlas</td>\n",
       "      <td>206586147</td>\n",
       "      <td>206586164</td>\n",
       "      <td>RE</td>\n",
       "      <td>-</td>\n",
       "      <td>SALL4_HUMAN.H11MO.0.B</td>\n",
       "      <td>9.9542</td>\n",
       "      <td>KLF/SP/2</td>\n",
       "    </tr>\n",
       "    <tr>\n",
       "      <th>1</th>\n",
       "      <td>chr1</td>\n",
       "      <td>atlas</td>\n",
       "      <td>206586148</td>\n",
       "      <td>206586165</td>\n",
       "      <td>RE</td>\n",
       "      <td>-</td>\n",
       "      <td>EGR2_HUMAN.H11MO.0.A</td>\n",
       "      <td>11.5015</td>\n",
       "      <td>KLF/SP/2</td>\n",
       "    </tr>\n",
       "    <tr>\n",
       "      <th>2</th>\n",
       "      <td>chr1</td>\n",
       "      <td>atlas</td>\n",
       "      <td>206586149</td>\n",
       "      <td>206586169</td>\n",
       "      <td>RE</td>\n",
       "      <td>-</td>\n",
       "      <td>KLF15_HUMAN.H11MO.0.A</td>\n",
       "      <td>11.5516</td>\n",
       "      <td>GC-tract</td>\n",
       "    </tr>\n",
       "    <tr>\n",
       "      <th>3</th>\n",
       "      <td>chr1</td>\n",
       "      <td>atlas</td>\n",
       "      <td>206586150</td>\n",
       "      <td>206586168</td>\n",
       "      <td>RE</td>\n",
       "      <td>+</td>\n",
       "      <td>TBX3_MOUSE.H11MO.0.B</td>\n",
       "      <td>7.7390</td>\n",
       "      <td>TBX/3</td>\n",
       "    </tr>\n",
       "    <tr>\n",
       "      <th>4</th>\n",
       "      <td>chr1</td>\n",
       "      <td>atlas</td>\n",
       "      <td>206586151</td>\n",
       "      <td>206586168</td>\n",
       "      <td>RE</td>\n",
       "      <td>-</td>\n",
       "      <td>KLF1_MOUSE.H11MO.0.A</td>\n",
       "      <td>10.1096</td>\n",
       "      <td>KLF/SP/2</td>\n",
       "    </tr>\n",
       "    <tr>\n",
       "      <th>...</th>\n",
       "      <td>...</td>\n",
       "      <td>...</td>\n",
       "      <td>...</td>\n",
       "      <td>...</td>\n",
       "      <td>...</td>\n",
       "      <td>...</td>\n",
       "      <td>...</td>\n",
       "      <td>...</td>\n",
       "      <td>...</td>\n",
       "    </tr>\n",
       "    <tr>\n",
       "      <th>62</th>\n",
       "      <td>chr1</td>\n",
       "      <td>atlas</td>\n",
       "      <td>206586189</td>\n",
       "      <td>206586206</td>\n",
       "      <td>RE</td>\n",
       "      <td>-</td>\n",
       "      <td>EGR2_HUMAN.H11MO.0.A</td>\n",
       "      <td>7.8496</td>\n",
       "      <td>KLF/SP/2</td>\n",
       "    </tr>\n",
       "    <tr>\n",
       "      <th>63</th>\n",
       "      <td>chr1</td>\n",
       "      <td>atlas</td>\n",
       "      <td>206586190</td>\n",
       "      <td>206586203</td>\n",
       "      <td>RE</td>\n",
       "      <td>+</td>\n",
       "      <td>ZSCAN4_C2H2_1</td>\n",
       "      <td>3.8977</td>\n",
       "      <td>ZSCAN4</td>\n",
       "    </tr>\n",
       "    <tr>\n",
       "      <th>64</th>\n",
       "      <td>chr1</td>\n",
       "      <td>atlas</td>\n",
       "      <td>206586191</td>\n",
       "      <td>206586202</td>\n",
       "      <td>RE</td>\n",
       "      <td>+</td>\n",
       "      <td>KLF9_MA1107.1</td>\n",
       "      <td>8.4085</td>\n",
       "      <td>KLF/SP/1</td>\n",
       "    </tr>\n",
       "    <tr>\n",
       "      <th>65</th>\n",
       "      <td>chr1</td>\n",
       "      <td>atlas</td>\n",
       "      <td>206586191</td>\n",
       "      <td>206586208</td>\n",
       "      <td>RE</td>\n",
       "      <td>-</td>\n",
       "      <td>EGR2_HUMAN.H11MO.0.A</td>\n",
       "      <td>7.8496</td>\n",
       "      <td>KLF/SP/2</td>\n",
       "    </tr>\n",
       "    <tr>\n",
       "      <th>66</th>\n",
       "      <td>chr1</td>\n",
       "      <td>atlas</td>\n",
       "      <td>206586192</td>\n",
       "      <td>206586205</td>\n",
       "      <td>RE</td>\n",
       "      <td>+</td>\n",
       "      <td>ZSCAN4_C2H2_1</td>\n",
       "      <td>3.8977</td>\n",
       "      <td>ZSCAN4</td>\n",
       "    </tr>\n",
       "  </tbody>\n",
       "</table>\n",
       "<p>67 rows × 9 columns</p>\n",
       "</div>"
      ],
      "text/plain": [
       "   seqid source      start        end featuretype strand  \\\n",
       "0   chr1  atlas  206586147  206586164          RE      -   \n",
       "1   chr1  atlas  206586148  206586165          RE      -   \n",
       "2   chr1  atlas  206586149  206586169          RE      -   \n",
       "3   chr1  atlas  206586150  206586168          RE      +   \n",
       "4   chr1  atlas  206586151  206586168          RE      -   \n",
       "..   ...    ...        ...        ...         ...    ...   \n",
       "62  chr1  atlas  206586189  206586206          RE      -   \n",
       "63  chr1  atlas  206586190  206586203          RE      +   \n",
       "64  chr1  atlas  206586191  206586202          RE      +   \n",
       "65  chr1  atlas  206586191  206586208          RE      -   \n",
       "66  chr1  atlas  206586192  206586205          RE      +   \n",
       "\n",
       "                       ID  matchscore   cluster  \n",
       "0   SALL4_HUMAN.H11MO.0.B      9.9542  KLF/SP/2  \n",
       "1    EGR2_HUMAN.H11MO.0.A     11.5015  KLF/SP/2  \n",
       "2   KLF15_HUMAN.H11MO.0.A     11.5516  GC-tract  \n",
       "3    TBX3_MOUSE.H11MO.0.B      7.7390     TBX/3  \n",
       "4    KLF1_MOUSE.H11MO.0.A     10.1096  KLF/SP/2  \n",
       "..                    ...         ...       ...  \n",
       "62   EGR2_HUMAN.H11MO.0.A      7.8496  KLF/SP/2  \n",
       "63          ZSCAN4_C2H2_1      3.8977    ZSCAN4  \n",
       "64          KLF9_MA1107.1      8.4085  KLF/SP/1  \n",
       "65   EGR2_HUMAN.H11MO.0.A      7.8496  KLF/SP/2  \n",
       "66          ZSCAN4_C2H2_1      3.8977    ZSCAN4  \n",
       "\n",
       "[67 rows x 9 columns]"
      ]
     },
     "execution_count": 83,
     "metadata": {},
     "output_type": "execute_result"
    }
   ],
   "source": [
    "for col in df.columns:\n",
    "    df[col] = df[col].apply(lambda x: x[0] if isinstance(x, list) and len(x) == 1 else x)\n",
    "df.dropna(how='all', axis=1, inplace=True)\n",
    "df"
   ]
  }
 ],
 "metadata": {
  "kernelspec": {
   "display_name": "Python 3 (ipykernel)",
   "language": "python",
   "name": "python3"
  },
  "language_info": {
   "codemirror_mode": {
    "name": "ipython",
    "version": 3
   },
   "file_extension": ".py",
   "mimetype": "text/x-python",
   "name": "python",
   "nbconvert_exporter": "python",
   "pygments_lexer": "ipython3",
   "version": "3.11.5"
  }
 },
 "nbformat": 4,
 "nbformat_minor": 2
}
